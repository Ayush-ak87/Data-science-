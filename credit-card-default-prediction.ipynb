{
 "cells": [
  {
   "cell_type": "code",
   "execution_count": 1,
   "id": "8c9f20b2",
   "metadata": {
    "execution": {
     "iopub.execute_input": "2023-06-10T09:27:58.132583Z",
     "iopub.status.busy": "2023-06-10T09:27:58.132229Z",
     "iopub.status.idle": "2023-06-10T09:27:58.140094Z",
     "shell.execute_reply": "2023-06-10T09:27:58.139268Z"
    },
    "papermill": {
     "duration": 0.016132,
     "end_time": "2023-06-10T09:27:58.141849",
     "exception": false,
     "start_time": "2023-06-10T09:27:58.125717",
     "status": "completed"
    },
    "tags": []
   },
   "outputs": [],
   "source": [
    "import pandas as pd"
   ]
  },
  {
   "cell_type": "code",
   "execution_count": 2,
   "id": "6b239dd3",
   "metadata": {
    "execution": {
     "iopub.execute_input": "2023-06-10T09:27:58.151941Z",
     "iopub.status.busy": "2023-06-10T09:27:58.151666Z",
     "iopub.status.idle": "2023-06-10T09:27:58.632633Z",
     "shell.execute_reply": "2023-06-10T09:27:58.631760Z"
    },
    "papermill": {
     "duration": 0.488357,
     "end_time": "2023-06-10T09:27:58.634847",
     "exception": false,
     "start_time": "2023-06-10T09:27:58.146490",
     "status": "completed"
    },
    "tags": []
   },
   "outputs": [],
   "source": [
    "default = pd.read_csv('https://github.com/ybifoundation/Dataset/raw/main/Credit%20Default.csv')\n"
   ]
  },
  {
   "cell_type": "code",
   "execution_count": 3,
   "id": "905abbf1",
   "metadata": {
    "execution": {
     "iopub.execute_input": "2023-06-10T09:27:58.644831Z",
     "iopub.status.busy": "2023-06-10T09:27:58.644579Z",
     "iopub.status.idle": "2023-06-10T09:27:58.667101Z",
     "shell.execute_reply": "2023-06-10T09:27:58.666556Z"
    },
    "papermill": {
     "duration": 0.028997,
     "end_time": "2023-06-10T09:27:58.668555",
     "exception": false,
     "start_time": "2023-06-10T09:27:58.639558",
     "status": "completed"
    },
    "tags": []
   },
   "outputs": [
    {
     "data": {
      "text/html": [
       "<div>\n",
       "<style scoped>\n",
       "    .dataframe tbody tr th:only-of-type {\n",
       "        vertical-align: middle;\n",
       "    }\n",
       "\n",
       "    .dataframe tbody tr th {\n",
       "        vertical-align: top;\n",
       "    }\n",
       "\n",
       "    .dataframe thead th {\n",
       "        text-align: right;\n",
       "    }\n",
       "</style>\n",
       "<table border=\"1\" class=\"dataframe\">\n",
       "  <thead>\n",
       "    <tr style=\"text-align: right;\">\n",
       "      <th></th>\n",
       "      <th>Income</th>\n",
       "      <th>Age</th>\n",
       "      <th>Loan</th>\n",
       "      <th>Loan to Income</th>\n",
       "      <th>Default</th>\n",
       "    </tr>\n",
       "  </thead>\n",
       "  <tbody>\n",
       "    <tr>\n",
       "      <th>0</th>\n",
       "      <td>66155.92510</td>\n",
       "      <td>59.017015</td>\n",
       "      <td>8106.532131</td>\n",
       "      <td>0.122537</td>\n",
       "      <td>0</td>\n",
       "    </tr>\n",
       "    <tr>\n",
       "      <th>1</th>\n",
       "      <td>34415.15397</td>\n",
       "      <td>48.117153</td>\n",
       "      <td>6564.745018</td>\n",
       "      <td>0.190752</td>\n",
       "      <td>0</td>\n",
       "    </tr>\n",
       "    <tr>\n",
       "      <th>2</th>\n",
       "      <td>57317.17006</td>\n",
       "      <td>63.108049</td>\n",
       "      <td>8020.953296</td>\n",
       "      <td>0.139940</td>\n",
       "      <td>0</td>\n",
       "    </tr>\n",
       "    <tr>\n",
       "      <th>3</th>\n",
       "      <td>42709.53420</td>\n",
       "      <td>45.751972</td>\n",
       "      <td>6103.642260</td>\n",
       "      <td>0.142911</td>\n",
       "      <td>0</td>\n",
       "    </tr>\n",
       "    <tr>\n",
       "      <th>4</th>\n",
       "      <td>66952.68885</td>\n",
       "      <td>18.584336</td>\n",
       "      <td>8770.099235</td>\n",
       "      <td>0.130990</td>\n",
       "      <td>1</td>\n",
       "    </tr>\n",
       "  </tbody>\n",
       "</table>\n",
       "</div>"
      ],
      "text/plain": [
       "        Income        Age         Loan  Loan to Income  Default\n",
       "0  66155.92510  59.017015  8106.532131        0.122537        0\n",
       "1  34415.15397  48.117153  6564.745018        0.190752        0\n",
       "2  57317.17006  63.108049  8020.953296        0.139940        0\n",
       "3  42709.53420  45.751972  6103.642260        0.142911        0\n",
       "4  66952.68885  18.584336  8770.099235        0.130990        1"
      ]
     },
     "execution_count": 3,
     "metadata": {},
     "output_type": "execute_result"
    }
   ],
   "source": [
    "default.head()"
   ]
  },
  {
   "cell_type": "code",
   "execution_count": 4,
   "id": "8b7222d7",
   "metadata": {
    "execution": {
     "iopub.execute_input": "2023-06-10T09:27:58.678652Z",
     "iopub.status.busy": "2023-06-10T09:27:58.678234Z",
     "iopub.status.idle": "2023-06-10T09:27:58.700678Z",
     "shell.execute_reply": "2023-06-10T09:27:58.699451Z"
    },
    "papermill": {
     "duration": 0.029451,
     "end_time": "2023-06-10T09:27:58.702473",
     "exception": false,
     "start_time": "2023-06-10T09:27:58.673022",
     "status": "completed"
    },
    "tags": []
   },
   "outputs": [
    {
     "name": "stdout",
     "output_type": "stream",
     "text": [
      "<class 'pandas.core.frame.DataFrame'>\n",
      "RangeIndex: 2000 entries, 0 to 1999\n",
      "Data columns (total 5 columns):\n",
      " #   Column          Non-Null Count  Dtype  \n",
      "---  ------          --------------  -----  \n",
      " 0   Income          2000 non-null   float64\n",
      " 1   Age             2000 non-null   float64\n",
      " 2   Loan            2000 non-null   float64\n",
      " 3   Loan to Income  2000 non-null   float64\n",
      " 4   Default         2000 non-null   int64  \n",
      "dtypes: float64(4), int64(1)\n",
      "memory usage: 78.2 KB\n"
     ]
    }
   ],
   "source": [
    "default.info()\n"
   ]
  },
  {
   "cell_type": "code",
   "execution_count": 5,
   "id": "f8b9b193",
   "metadata": {
    "execution": {
     "iopub.execute_input": "2023-06-10T09:27:58.713314Z",
     "iopub.status.busy": "2023-06-10T09:27:58.712362Z",
     "iopub.status.idle": "2023-06-10T09:27:58.734379Z",
     "shell.execute_reply": "2023-06-10T09:27:58.733444Z"
    },
    "papermill": {
     "duration": 0.029631,
     "end_time": "2023-06-10T09:27:58.736509",
     "exception": false,
     "start_time": "2023-06-10T09:27:58.706878",
     "status": "completed"
    },
    "tags": []
   },
   "outputs": [
    {
     "data": {
      "text/html": [
       "<div>\n",
       "<style scoped>\n",
       "    .dataframe tbody tr th:only-of-type {\n",
       "        vertical-align: middle;\n",
       "    }\n",
       "\n",
       "    .dataframe tbody tr th {\n",
       "        vertical-align: top;\n",
       "    }\n",
       "\n",
       "    .dataframe thead th {\n",
       "        text-align: right;\n",
       "    }\n",
       "</style>\n",
       "<table border=\"1\" class=\"dataframe\">\n",
       "  <thead>\n",
       "    <tr style=\"text-align: right;\">\n",
       "      <th></th>\n",
       "      <th>Income</th>\n",
       "      <th>Age</th>\n",
       "      <th>Loan</th>\n",
       "      <th>Loan to Income</th>\n",
       "      <th>Default</th>\n",
       "    </tr>\n",
       "  </thead>\n",
       "  <tbody>\n",
       "    <tr>\n",
       "      <th>count</th>\n",
       "      <td>2000.000000</td>\n",
       "      <td>2000.000000</td>\n",
       "      <td>2000.000000</td>\n",
       "      <td>2000.000000</td>\n",
       "      <td>2000.000000</td>\n",
       "    </tr>\n",
       "    <tr>\n",
       "      <th>mean</th>\n",
       "      <td>45331.600018</td>\n",
       "      <td>40.927143</td>\n",
       "      <td>4444.369695</td>\n",
       "      <td>0.098403</td>\n",
       "      <td>0.141500</td>\n",
       "    </tr>\n",
       "    <tr>\n",
       "      <th>std</th>\n",
       "      <td>14326.327119</td>\n",
       "      <td>13.262450</td>\n",
       "      <td>3045.410024</td>\n",
       "      <td>0.057620</td>\n",
       "      <td>0.348624</td>\n",
       "    </tr>\n",
       "    <tr>\n",
       "      <th>min</th>\n",
       "      <td>20014.489470</td>\n",
       "      <td>18.055189</td>\n",
       "      <td>1.377630</td>\n",
       "      <td>0.000049</td>\n",
       "      <td>0.000000</td>\n",
       "    </tr>\n",
       "    <tr>\n",
       "      <th>25%</th>\n",
       "      <td>32796.459720</td>\n",
       "      <td>29.062492</td>\n",
       "      <td>1939.708847</td>\n",
       "      <td>0.047903</td>\n",
       "      <td>0.000000</td>\n",
       "    </tr>\n",
       "    <tr>\n",
       "      <th>50%</th>\n",
       "      <td>45789.117310</td>\n",
       "      <td>41.382673</td>\n",
       "      <td>3974.719418</td>\n",
       "      <td>0.099437</td>\n",
       "      <td>0.000000</td>\n",
       "    </tr>\n",
       "    <tr>\n",
       "      <th>75%</th>\n",
       "      <td>57791.281670</td>\n",
       "      <td>52.596993</td>\n",
       "      <td>6432.410625</td>\n",
       "      <td>0.147585</td>\n",
       "      <td>0.000000</td>\n",
       "    </tr>\n",
       "    <tr>\n",
       "      <th>max</th>\n",
       "      <td>69995.685580</td>\n",
       "      <td>63.971796</td>\n",
       "      <td>13766.051240</td>\n",
       "      <td>0.199938</td>\n",
       "      <td>1.000000</td>\n",
       "    </tr>\n",
       "  </tbody>\n",
       "</table>\n",
       "</div>"
      ],
      "text/plain": [
       "             Income          Age          Loan  Loan to Income      Default\n",
       "count   2000.000000  2000.000000   2000.000000     2000.000000  2000.000000\n",
       "mean   45331.600018    40.927143   4444.369695        0.098403     0.141500\n",
       "std    14326.327119    13.262450   3045.410024        0.057620     0.348624\n",
       "min    20014.489470    18.055189      1.377630        0.000049     0.000000\n",
       "25%    32796.459720    29.062492   1939.708847        0.047903     0.000000\n",
       "50%    45789.117310    41.382673   3974.719418        0.099437     0.000000\n",
       "75%    57791.281670    52.596993   6432.410625        0.147585     0.000000\n",
       "max    69995.685580    63.971796  13766.051240        0.199938     1.000000"
      ]
     },
     "execution_count": 5,
     "metadata": {},
     "output_type": "execute_result"
    }
   ],
   "source": [
    "default.describe()\n"
   ]
  },
  {
   "cell_type": "code",
   "execution_count": 6,
   "id": "79b0f250",
   "metadata": {
    "execution": {
     "iopub.execute_input": "2023-06-10T09:27:58.749408Z",
     "iopub.status.busy": "2023-06-10T09:27:58.749043Z",
     "iopub.status.idle": "2023-06-10T09:27:58.756749Z",
     "shell.execute_reply": "2023-06-10T09:27:58.755813Z"
    },
    "papermill": {
     "duration": 0.015373,
     "end_time": "2023-06-10T09:27:58.758455",
     "exception": false,
     "start_time": "2023-06-10T09:27:58.743082",
     "status": "completed"
    },
    "tags": []
   },
   "outputs": [
    {
     "data": {
      "text/plain": [
       "0    1717\n",
       "1     283\n",
       "Name: Default, dtype: int64"
      ]
     },
     "execution_count": 6,
     "metadata": {},
     "output_type": "execute_result"
    }
   ],
   "source": [
    "default['Default'].value_counts()\n"
   ]
  },
  {
   "cell_type": "code",
   "execution_count": 7,
   "id": "b6b08775",
   "metadata": {
    "execution": {
     "iopub.execute_input": "2023-06-10T09:27:58.769770Z",
     "iopub.status.busy": "2023-06-10T09:27:58.769465Z",
     "iopub.status.idle": "2023-06-10T09:27:58.775239Z",
     "shell.execute_reply": "2023-06-10T09:27:58.774427Z"
    },
    "papermill": {
     "duration": 0.013824,
     "end_time": "2023-06-10T09:27:58.777206",
     "exception": false,
     "start_time": "2023-06-10T09:27:58.763382",
     "status": "completed"
    },
    "tags": []
   },
   "outputs": [
    {
     "data": {
      "text/plain": [
       "Index(['Income', 'Age', 'Loan', 'Loan to Income', 'Default'], dtype='object')"
      ]
     },
     "execution_count": 7,
     "metadata": {},
     "output_type": "execute_result"
    }
   ],
   "source": [
    "default.columns"
   ]
  },
  {
   "cell_type": "code",
   "execution_count": 8,
   "id": "863b80ec",
   "metadata": {
    "execution": {
     "iopub.execute_input": "2023-06-10T09:27:58.788898Z",
     "iopub.status.busy": "2023-06-10T09:27:58.788343Z",
     "iopub.status.idle": "2023-06-10T09:27:58.792142Z",
     "shell.execute_reply": "2023-06-10T09:27:58.791480Z"
    },
    "papermill": {
     "duration": 0.011801,
     "end_time": "2023-06-10T09:27:58.794253",
     "exception": false,
     "start_time": "2023-06-10T09:27:58.782452",
     "status": "completed"
    },
    "tags": []
   },
   "outputs": [],
   "source": [
    "y = default['Default']"
   ]
  },
  {
   "cell_type": "code",
   "execution_count": 9,
   "id": "18488c98",
   "metadata": {
    "execution": {
     "iopub.execute_input": "2023-06-10T09:27:58.806464Z",
     "iopub.status.busy": "2023-06-10T09:27:58.806135Z",
     "iopub.status.idle": "2023-06-10T09:27:58.810755Z",
     "shell.execute_reply": "2023-06-10T09:27:58.809792Z"
    },
    "papermill": {
     "duration": 0.012506,
     "end_time": "2023-06-10T09:27:58.812312",
     "exception": false,
     "start_time": "2023-06-10T09:27:58.799806",
     "status": "completed"
    },
    "tags": []
   },
   "outputs": [],
   "source": [
    "X = default.drop(['Default'],axis=1)"
   ]
  },
  {
   "cell_type": "code",
   "execution_count": 10,
   "id": "dee71dfc",
   "metadata": {
    "execution": {
     "iopub.execute_input": "2023-06-10T09:27:58.824434Z",
     "iopub.status.busy": "2023-06-10T09:27:58.823622Z",
     "iopub.status.idle": "2023-06-10T09:27:59.880855Z",
     "shell.execute_reply": "2023-06-10T09:27:59.879990Z"
    },
    "papermill": {
     "duration": 1.065509,
     "end_time": "2023-06-10T09:27:59.883127",
     "exception": false,
     "start_time": "2023-06-10T09:27:58.817618",
     "status": "completed"
    },
    "tags": []
   },
   "outputs": [],
   "source": [
    "from sklearn.model_selection import train_test_split\n",
    "X_train, X_test, y_train, y_test = train_test_split(X,y, train_size=0.7, random_state=2529)"
   ]
  },
  {
   "cell_type": "code",
   "execution_count": 11,
   "id": "9cef571d",
   "metadata": {
    "execution": {
     "iopub.execute_input": "2023-06-10T09:27:59.896596Z",
     "iopub.status.busy": "2023-06-10T09:27:59.896266Z",
     "iopub.status.idle": "2023-06-10T09:27:59.902617Z",
     "shell.execute_reply": "2023-06-10T09:27:59.901361Z"
    },
    "papermill": {
     "duration": 0.013906,
     "end_time": "2023-06-10T09:27:59.904312",
     "exception": false,
     "start_time": "2023-06-10T09:27:59.890406",
     "status": "completed"
    },
    "tags": []
   },
   "outputs": [
    {
     "data": {
      "text/plain": [
       "((1400, 4), (600, 4), (1400,), (600,))"
      ]
     },
     "execution_count": 11,
     "metadata": {},
     "output_type": "execute_result"
    }
   ],
   "source": [
    "X_train.shape, X_test.shape, y_train.shape, y_test.shape\n"
   ]
  },
  {
   "cell_type": "code",
   "execution_count": 12,
   "id": "f7269ee4",
   "metadata": {
    "execution": {
     "iopub.execute_input": "2023-06-10T09:27:59.915504Z",
     "iopub.status.busy": "2023-06-10T09:27:59.914917Z",
     "iopub.status.idle": "2023-06-10T09:28:00.003218Z",
     "shell.execute_reply": "2023-06-10T09:28:00.002355Z"
    },
    "papermill": {
     "duration": 0.096035,
     "end_time": "2023-06-10T09:28:00.005250",
     "exception": false,
     "start_time": "2023-06-10T09:27:59.909215",
     "status": "completed"
    },
    "tags": []
   },
   "outputs": [],
   "source": [
    "from sklearn.linear_model import LogisticRegression\n",
    "model = LogisticRegression()"
   ]
  },
  {
   "cell_type": "code",
   "execution_count": 13,
   "id": "1e4bcdaa",
   "metadata": {
    "execution": {
     "iopub.execute_input": "2023-06-10T09:28:00.016396Z",
     "iopub.status.busy": "2023-06-10T09:28:00.016112Z",
     "iopub.status.idle": "2023-06-10T09:28:00.047385Z",
     "shell.execute_reply": "2023-06-10T09:28:00.046572Z"
    },
    "papermill": {
     "duration": 0.039249,
     "end_time": "2023-06-10T09:28:00.049688",
     "exception": false,
     "start_time": "2023-06-10T09:28:00.010439",
     "status": "completed"
    },
    "tags": []
   },
   "outputs": [
    {
     "data": {
      "text/html": [
       "<style>#sk-container-id-1 {color: black;background-color: white;}#sk-container-id-1 pre{padding: 0;}#sk-container-id-1 div.sk-toggleable {background-color: white;}#sk-container-id-1 label.sk-toggleable__label {cursor: pointer;display: block;width: 100%;margin-bottom: 0;padding: 0.3em;box-sizing: border-box;text-align: center;}#sk-container-id-1 label.sk-toggleable__label-arrow:before {content: \"▸\";float: left;margin-right: 0.25em;color: #696969;}#sk-container-id-1 label.sk-toggleable__label-arrow:hover:before {color: black;}#sk-container-id-1 div.sk-estimator:hover label.sk-toggleable__label-arrow:before {color: black;}#sk-container-id-1 div.sk-toggleable__content {max-height: 0;max-width: 0;overflow: hidden;text-align: left;background-color: #f0f8ff;}#sk-container-id-1 div.sk-toggleable__content pre {margin: 0.2em;color: black;border-radius: 0.25em;background-color: #f0f8ff;}#sk-container-id-1 input.sk-toggleable__control:checked~div.sk-toggleable__content {max-height: 200px;max-width: 100%;overflow: auto;}#sk-container-id-1 input.sk-toggleable__control:checked~label.sk-toggleable__label-arrow:before {content: \"▾\";}#sk-container-id-1 div.sk-estimator input.sk-toggleable__control:checked~label.sk-toggleable__label {background-color: #d4ebff;}#sk-container-id-1 div.sk-label input.sk-toggleable__control:checked~label.sk-toggleable__label {background-color: #d4ebff;}#sk-container-id-1 input.sk-hidden--visually {border: 0;clip: rect(1px 1px 1px 1px);clip: rect(1px, 1px, 1px, 1px);height: 1px;margin: -1px;overflow: hidden;padding: 0;position: absolute;width: 1px;}#sk-container-id-1 div.sk-estimator {font-family: monospace;background-color: #f0f8ff;border: 1px dotted black;border-radius: 0.25em;box-sizing: border-box;margin-bottom: 0.5em;}#sk-container-id-1 div.sk-estimator:hover {background-color: #d4ebff;}#sk-container-id-1 div.sk-parallel-item::after {content: \"\";width: 100%;border-bottom: 1px solid gray;flex-grow: 1;}#sk-container-id-1 div.sk-label:hover label.sk-toggleable__label {background-color: #d4ebff;}#sk-container-id-1 div.sk-serial::before {content: \"\";position: absolute;border-left: 1px solid gray;box-sizing: border-box;top: 0;bottom: 0;left: 50%;z-index: 0;}#sk-container-id-1 div.sk-serial {display: flex;flex-direction: column;align-items: center;background-color: white;padding-right: 0.2em;padding-left: 0.2em;position: relative;}#sk-container-id-1 div.sk-item {position: relative;z-index: 1;}#sk-container-id-1 div.sk-parallel {display: flex;align-items: stretch;justify-content: center;background-color: white;position: relative;}#sk-container-id-1 div.sk-item::before, #sk-container-id-1 div.sk-parallel-item::before {content: \"\";position: absolute;border-left: 1px solid gray;box-sizing: border-box;top: 0;bottom: 0;left: 50%;z-index: -1;}#sk-container-id-1 div.sk-parallel-item {display: flex;flex-direction: column;z-index: 1;position: relative;background-color: white;}#sk-container-id-1 div.sk-parallel-item:first-child::after {align-self: flex-end;width: 50%;}#sk-container-id-1 div.sk-parallel-item:last-child::after {align-self: flex-start;width: 50%;}#sk-container-id-1 div.sk-parallel-item:only-child::after {width: 0;}#sk-container-id-1 div.sk-dashed-wrapped {border: 1px dashed gray;margin: 0 0.4em 0.5em 0.4em;box-sizing: border-box;padding-bottom: 0.4em;background-color: white;}#sk-container-id-1 div.sk-label label {font-family: monospace;font-weight: bold;display: inline-block;line-height: 1.2em;}#sk-container-id-1 div.sk-label-container {text-align: center;}#sk-container-id-1 div.sk-container {/* jupyter's `normalize.less` sets `[hidden] { display: none; }` but bootstrap.min.css set `[hidden] { display: none !important; }` so we also need the `!important` here to be able to override the default hidden behavior on the sphinx rendered scikit-learn.org. See: https://github.com/scikit-learn/scikit-learn/issues/21755 */display: inline-block !important;position: relative;}#sk-container-id-1 div.sk-text-repr-fallback {display: none;}</style><div id=\"sk-container-id-1\" class=\"sk-top-container\"><div class=\"sk-text-repr-fallback\"><pre>LogisticRegression()</pre><b>In a Jupyter environment, please rerun this cell to show the HTML representation or trust the notebook. <br />On GitHub, the HTML representation is unable to render, please try loading this page with nbviewer.org.</b></div><div class=\"sk-container\" hidden><div class=\"sk-item\"><div class=\"sk-estimator sk-toggleable\"><input class=\"sk-toggleable__control sk-hidden--visually\" id=\"sk-estimator-id-1\" type=\"checkbox\" checked><label for=\"sk-estimator-id-1\" class=\"sk-toggleable__label sk-toggleable__label-arrow\">LogisticRegression</label><div class=\"sk-toggleable__content\"><pre>LogisticRegression()</pre></div></div></div></div></div>"
      ],
      "text/plain": [
       "LogisticRegression()"
      ]
     },
     "execution_count": 13,
     "metadata": {},
     "output_type": "execute_result"
    }
   ],
   "source": [
    "model.fit(X_train,y_train)\n"
   ]
  },
  {
   "cell_type": "code",
   "execution_count": 14,
   "id": "a62fa719",
   "metadata": {
    "execution": {
     "iopub.execute_input": "2023-06-10T09:28:00.061821Z",
     "iopub.status.busy": "2023-06-10T09:28:00.061509Z",
     "iopub.status.idle": "2023-06-10T09:28:00.066798Z",
     "shell.execute_reply": "2023-06-10T09:28:00.065977Z"
    },
    "papermill": {
     "duration": 0.01315,
     "end_time": "2023-06-10T09:28:00.068417",
     "exception": false,
     "start_time": "2023-06-10T09:28:00.055267",
     "status": "completed"
    },
    "tags": []
   },
   "outputs": [
    {
     "data": {
      "text/plain": [
       "array([9.39569095])"
      ]
     },
     "execution_count": 14,
     "metadata": {},
     "output_type": "execute_result"
    }
   ],
   "source": [
    "model.intercept_\n"
   ]
  },
  {
   "cell_type": "code",
   "execution_count": 15,
   "id": "1fbb59f7",
   "metadata": {
    "execution": {
     "iopub.execute_input": "2023-06-10T09:28:00.080282Z",
     "iopub.status.busy": "2023-06-10T09:28:00.079983Z",
     "iopub.status.idle": "2023-06-10T09:28:00.085074Z",
     "shell.execute_reply": "2023-06-10T09:28:00.084511Z"
    },
    "papermill": {
     "duration": 0.012571,
     "end_time": "2023-06-10T09:28:00.086573",
     "exception": false,
     "start_time": "2023-06-10T09:28:00.074002",
     "status": "completed"
    },
    "tags": []
   },
   "outputs": [
    {
     "data": {
      "text/plain": [
       "array([[-2.31410016e-04, -3.43062682e-01,  1.67863323e-03,\n",
       "         1.51188530e+00]])"
      ]
     },
     "execution_count": 15,
     "metadata": {},
     "output_type": "execute_result"
    }
   ],
   "source": [
    "model.coef_\n"
   ]
  },
  {
   "cell_type": "code",
   "execution_count": 16,
   "id": "73b5f107",
   "metadata": {
    "execution": {
     "iopub.execute_input": "2023-06-10T09:28:00.099208Z",
     "iopub.status.busy": "2023-06-10T09:28:00.098193Z",
     "iopub.status.idle": "2023-06-10T09:28:00.104059Z",
     "shell.execute_reply": "2023-06-10T09:28:00.103498Z"
    },
    "papermill": {
     "duration": 0.013794,
     "end_time": "2023-06-10T09:28:00.105619",
     "exception": false,
     "start_time": "2023-06-10T09:28:00.091825",
     "status": "completed"
    },
    "tags": []
   },
   "outputs": [],
   "source": [
    "y_pred = model.predict(X_test)\n"
   ]
  },
  {
   "cell_type": "code",
   "execution_count": 17,
   "id": "eb2c2511",
   "metadata": {
    "execution": {
     "iopub.execute_input": "2023-06-10T09:28:00.117900Z",
     "iopub.status.busy": "2023-06-10T09:28:00.117332Z",
     "iopub.status.idle": "2023-06-10T09:28:00.125148Z",
     "shell.execute_reply": "2023-06-10T09:28:00.124250Z"
    },
    "papermill": {
     "duration": 0.015908,
     "end_time": "2023-06-10T09:28:00.126888",
     "exception": false,
     "start_time": "2023-06-10T09:28:00.110980",
     "status": "completed"
    },
    "tags": []
   },
   "outputs": [
    {
     "data": {
      "text/plain": [
       "array([0, 0, 0, 1, 1, 0, 0, 0, 0, 0, 0, 0, 0, 0, 0, 0, 0, 0, 0, 0, 0, 0,\n",
       "       0, 0, 0, 0, 0, 0, 0, 0, 0, 0, 0, 0, 0, 0, 0, 0, 0, 1, 0, 0, 0, 0,\n",
       "       0, 0, 0, 0, 0, 0, 1, 0, 0, 0, 0, 0, 0, 0, 0, 0, 1, 1, 0, 0, 0, 0,\n",
       "       0, 0, 0, 0, 0, 1, 0, 0, 0, 1, 0, 0, 0, 0, 0, 0, 0, 0, 0, 0, 0, 0,\n",
       "       0, 0, 0, 0, 0, 1, 0, 0, 1, 0, 0, 0, 0, 0, 0, 0, 0, 0, 0, 0, 0, 0,\n",
       "       0, 0, 0, 0, 0, 0, 0, 0, 0, 0, 0, 1, 0, 0, 1, 0, 0, 0, 0, 0, 0, 0,\n",
       "       0, 0, 0, 1, 0, 1, 1, 0, 0, 0, 0, 0, 0, 0, 1, 0, 0, 1, 0, 0, 0, 0,\n",
       "       1, 0, 0, 0, 0, 0, 0, 0, 1, 0, 0, 0, 0, 0, 0, 1, 1, 1, 0, 0, 0, 0,\n",
       "       0, 0, 0, 0, 0, 0, 1, 0, 0, 0, 0, 0, 0, 1, 0, 0, 0, 0, 0, 0, 0, 0,\n",
       "       0, 0, 0, 0, 0, 1, 0, 0, 0, 0, 0, 0, 0, 1, 0, 0, 1, 0, 0, 0, 0, 0,\n",
       "       0, 0, 0, 0, 1, 0, 0, 0, 1, 0, 0, 0, 0, 1, 0, 0, 0, 0, 0, 0, 0, 0,\n",
       "       0, 0, 0, 0, 0, 1, 1, 0, 0, 0, 0, 0, 0, 0, 0, 0, 0, 0, 0, 1, 0, 0,\n",
       "       0, 0, 0, 0, 0, 1, 1, 0, 0, 0, 0, 1, 0, 0, 1, 0, 0, 0, 0, 0, 1, 0,\n",
       "       1, 0, 0, 0, 0, 0, 0, 1, 0, 0, 0, 0, 0, 0, 0, 0, 0, 1, 0, 0, 0, 0,\n",
       "       0, 0, 0, 0, 0, 0, 1, 0, 0, 0, 0, 0, 0, 0, 0, 0, 1, 0, 0, 0, 0, 0,\n",
       "       0, 0, 0, 0, 0, 0, 1, 0, 0, 0, 0, 1, 0, 0, 0, 0, 0, 0, 0, 0, 0, 0,\n",
       "       1, 1, 0, 0, 0, 0, 0, 0, 0, 0, 0, 0, 0, 0, 0, 0, 0, 0, 0, 0, 0, 0,\n",
       "       0, 0, 0, 0, 1, 0, 0, 0, 0, 0, 0, 0, 0, 0, 0, 0, 0, 0, 0, 0, 0, 1,\n",
       "       0, 0, 0, 0, 0, 0, 1, 0, 0, 0, 0, 0, 0, 1, 0, 0, 0, 0, 0, 0, 0, 0,\n",
       "       0, 0, 0, 0, 0, 0, 1, 1, 1, 0, 0, 0, 0, 1, 1, 0, 0, 0, 0, 0, 0, 0,\n",
       "       0, 0, 1, 0, 0, 0, 0, 0, 0, 0, 0, 0, 0, 0, 1, 0, 0, 0, 0, 0, 0, 0,\n",
       "       0, 0, 0, 1, 1, 0, 0, 1, 0, 0, 1, 0, 0, 0, 0, 0, 0, 0, 0, 0, 0, 0,\n",
       "       0, 0, 0, 1, 1, 0, 0, 0, 0, 1, 0, 0, 0, 0, 0, 0, 0, 1, 1, 0, 0, 0,\n",
       "       0, 0, 0, 0, 0, 0, 1, 0, 0, 0, 0, 0, 0, 0, 0, 1, 0, 0, 0, 0, 0, 1,\n",
       "       0, 0, 0, 0, 0, 0, 0, 0, 0, 0, 0, 0, 0, 0, 0, 0, 0, 0, 0, 0, 0, 0,\n",
       "       0, 0, 0, 0, 0, 0, 0, 0, 0, 0, 0, 1, 0, 0, 0, 0, 0, 1, 0, 0, 0, 1,\n",
       "       0, 0, 0, 0, 0, 0, 0, 0, 1, 0, 1, 1, 0, 0, 0, 0, 0, 0, 1, 0, 0, 0,\n",
       "       0, 0, 0, 0, 0, 0])"
      ]
     },
     "execution_count": 17,
     "metadata": {},
     "output_type": "execute_result"
    }
   ],
   "source": [
    "y_pred"
   ]
  },
  {
   "cell_type": "code",
   "execution_count": 18,
   "id": "5289d145",
   "metadata": {
    "execution": {
     "iopub.execute_input": "2023-06-10T09:28:00.139078Z",
     "iopub.status.busy": "2023-06-10T09:28:00.138764Z",
     "iopub.status.idle": "2023-06-10T09:28:00.143338Z",
     "shell.execute_reply": "2023-06-10T09:28:00.142317Z"
    },
    "papermill": {
     "duration": 0.012607,
     "end_time": "2023-06-10T09:28:00.145083",
     "exception": false,
     "start_time": "2023-06-10T09:28:00.132476",
     "status": "completed"
    },
    "tags": []
   },
   "outputs": [],
   "source": [
    "from sklearn.metrics import confusion_matrix, accuracy_score, classification_report"
   ]
  },
  {
   "cell_type": "code",
   "execution_count": 19,
   "id": "3eab0b22",
   "metadata": {
    "execution": {
     "iopub.execute_input": "2023-06-10T09:28:00.161411Z",
     "iopub.status.busy": "2023-06-10T09:28:00.160863Z",
     "iopub.status.idle": "2023-06-10T09:28:00.167243Z",
     "shell.execute_reply": "2023-06-10T09:28:00.166659Z"
    },
    "papermill": {
     "duration": 0.017794,
     "end_time": "2023-06-10T09:28:00.168867",
     "exception": false,
     "start_time": "2023-06-10T09:28:00.151073",
     "status": "completed"
    },
    "tags": []
   },
   "outputs": [
    {
     "data": {
      "text/plain": [
       "array([[506,  13],\n",
       "       [ 17,  64]])"
      ]
     },
     "execution_count": 19,
     "metadata": {},
     "output_type": "execute_result"
    }
   ],
   "source": [
    "confusion_matrix(y_test,y_pred)\n"
   ]
  },
  {
   "cell_type": "code",
   "execution_count": 20,
   "id": "6f3205af",
   "metadata": {
    "execution": {
     "iopub.execute_input": "2023-06-10T09:28:00.182316Z",
     "iopub.status.busy": "2023-06-10T09:28:00.181733Z",
     "iopub.status.idle": "2023-06-10T09:28:00.187677Z",
     "shell.execute_reply": "2023-06-10T09:28:00.186658Z"
    },
    "papermill": {
     "duration": 0.014355,
     "end_time": "2023-06-10T09:28:00.189218",
     "exception": false,
     "start_time": "2023-06-10T09:28:00.174863",
     "status": "completed"
    },
    "tags": []
   },
   "outputs": [
    {
     "data": {
      "text/plain": [
       "0.95"
      ]
     },
     "execution_count": 20,
     "metadata": {},
     "output_type": "execute_result"
    }
   ],
   "source": [
    "accuracy_score(y_test,y_pred)\n"
   ]
  },
  {
   "cell_type": "code",
   "execution_count": 21,
   "id": "caa3cc9c",
   "metadata": {
    "execution": {
     "iopub.execute_input": "2023-06-10T09:28:00.201626Z",
     "iopub.status.busy": "2023-06-10T09:28:00.201307Z",
     "iopub.status.idle": "2023-06-10T09:28:00.212143Z",
     "shell.execute_reply": "2023-06-10T09:28:00.211264Z"
    },
    "papermill": {
     "duration": 0.018752,
     "end_time": "2023-06-10T09:28:00.213678",
     "exception": false,
     "start_time": "2023-06-10T09:28:00.194926",
     "status": "completed"
    },
    "tags": []
   },
   "outputs": [
    {
     "name": "stdout",
     "output_type": "stream",
     "text": [
      "              precision    recall  f1-score   support\n",
      "\n",
      "           0       0.97      0.97      0.97       519\n",
      "           1       0.83      0.79      0.81        81\n",
      "\n",
      "    accuracy                           0.95       600\n",
      "   macro avg       0.90      0.88      0.89       600\n",
      "weighted avg       0.95      0.95      0.95       600\n",
      "\n"
     ]
    }
   ],
   "source": [
    "print(classification_report(y_test,y_pred))"
   ]
  }
 ],
 "metadata": {
  "kernelspec": {
   "display_name": "Python 3",
   "language": "python",
   "name": "python3"
  },
  "language_info": {
   "codemirror_mode": {
    "name": "ipython",
    "version": 3
   },
   "file_extension": ".py",
   "mimetype": "text/x-python",
   "name": "python",
   "nbconvert_exporter": "python",
   "pygments_lexer": "ipython3",
   "version": "3.10.10"
  },
  "papermill": {
   "default_parameters": {},
   "duration": 10.872581,
   "end_time": "2023-06-10T09:28:01.038704",
   "environment_variables": {},
   "exception": null,
   "input_path": "__notebook__.ipynb",
   "output_path": "__notebook__.ipynb",
   "parameters": {},
   "start_time": "2023-06-10T09:27:50.166123",
   "version": "2.4.0"
  }
 },
 "nbformat": 4,
 "nbformat_minor": 5
}
